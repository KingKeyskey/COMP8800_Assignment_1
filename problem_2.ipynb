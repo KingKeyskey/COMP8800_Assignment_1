{
 "cells": [
  {
   "cell_type": "code",
   "id": "initial_id",
   "metadata": {
    "collapsed": true,
    "ExecuteTime": {
     "end_time": "2025-03-20T05:49:17.837673Z",
     "start_time": "2025-03-20T05:49:16.937738Z"
    }
   },
   "source": [
    "import networkx as nx\n",
    "import pandas as pd\n",
    "import matplotlib.pyplot as plt"
   ],
   "outputs": [],
   "execution_count": 1
  },
  {
   "metadata": {
    "ExecuteTime": {
     "end_time": "2025-03-20T05:49:19.801128Z",
     "start_time": "2025-03-20T05:49:19.749114Z"
    }
   },
   "cell_type": "code",
   "source": [
    "# Read the global-cities.dat file. Format sample: AAA|1|Anaa\n",
    "cities = pd.read_csv('global-cities.dat', sep='|', header=None, names=['code', 'node_id', 'city'], engine='python')\n",
    "cities['node_id'] = cities['node_id'].astype(int)\n",
    "\n",
    "# Read the global-net.dat file. Format sample: 1 1198\n",
    "edges = pd.read_csv('global-net.dat', sep='\\s+', header=None, names=['source', 'target'], engine='python')\n",
    "edges['source'] = edges['source'].astype(int)\n",
    "edges['target'] = edges['target'].astype(int)"
   ],
   "id": "73ba1b6a9b7724f3",
   "outputs": [],
   "execution_count": 2
  },
  {
   "metadata": {
    "ExecuteTime": {
     "end_time": "2025-03-20T05:49:41.508681Z",
     "start_time": "2025-03-20T05:49:41.082861Z"
    }
   },
   "cell_type": "code",
   "source": [
    "# Create an undirected graph\n",
    "G = nx.Graph()\n",
    "\n",
    "# Add nodes with city name as an attribute\n",
    "for _, row in cities.iterrows():\n",
    "    node_id = row['node_id']\n",
    "    city_name = row['city']\n",
    "    G.add_node(node_id, name=city_name)\n",
    "\n",
    "# Add edges to the graph\n",
    "for _, row in edges.iterrows():\n",
    "    G.add_edge(row['source'], row['target'])"
   ],
   "id": "55462e22f2791ff1",
   "outputs": [],
   "execution_count": 3
  },
  {
   "metadata": {},
   "cell_type": "markdown",
   "source": "Problem 2.1: Basic graph attributes: how many nodes and (undirected) edges are in this network?",
   "id": "45f8ed64246a5964"
  },
  {
   "metadata": {
    "ExecuteTime": {
     "end_time": "2025-03-20T05:49:58.396123Z",
     "start_time": "2025-03-20T05:49:58.392399Z"
    }
   },
   "cell_type": "code",
   "source": [
    "# Number of nodes and edges\n",
    "print(\"Total number of nodes:\", G.number_of_nodes())\n",
    "print(\"Total number of undirected edges:\", G.number_of_edges())"
   ],
   "id": "83f0d7ee3702f896",
   "outputs": [
    {
     "name": "stdout",
     "output_type": "stream",
     "text": [
      "Total number of nodes: 3883\n",
      "Total number of undirected edges: 14142\n"
     ]
    }
   ],
   "execution_count": 4
  },
  {
   "metadata": {},
   "cell_type": "markdown",
   "source": "Problem 2.2: How many connected components are in this graph, how many nodes and edges do the largest component contain?",
   "id": "5c1bf3de3f846205"
  },
  {
   "metadata": {
    "ExecuteTime": {
     "end_time": "2025-03-20T05:56:22.856134Z",
     "start_time": "2025-03-20T05:56:22.807213Z"
    }
   },
   "cell_type": "code",
   "source": [
    "# Connected components\n",
    "components = list(nx.connected_components(G))\n",
    "print(\"Number of connected components:\", len(components))\n",
    "\n",
    "# Extract the largest connected component\n",
    "largest_component = max(components, key=len)\n",
    "G_largest = G.subgraph(largest_component).copy()\n",
    "print(\"Number of nodes in the largest component:\", G_largest.number_of_nodes())\n",
    "print(\"Number of edges in the largest component:\", G_largest.number_of_edges())"
   ],
   "id": "ddd6c88fe53d2cd3",
   "outputs": [
    {
     "name": "stdout",
     "output_type": "stream",
     "text": [
      "Number of connected components: 266\n",
      "Number of nodes in the largest component: 3618\n",
      "Number of edges in the largest component: 14142\n"
     ]
    }
   ],
   "execution_count": 6
  },
  {
   "metadata": {},
   "cell_type": "markdown",
   "source": "Problem 2.3: Denote the largest component as G. List the top 10 nodes in G having the highest degree, and how many other nodes are they connected to. Please give names of the city/airport, node ids will not be accepted.",
   "id": "7607dae57a222fdb"
  },
  {
   "metadata": {
    "ExecuteTime": {
     "end_time": "2025-03-20T05:58:00.728120Z",
     "start_time": "2025-03-20T05:58:00.701930Z"
    }
   },
   "cell_type": "code",
   "source": [
    "# Get the degree for each node in the largest component\n",
    "degree_list = G_largest.degree()\n",
    "# Sort the nodes in descending order by degree\n",
    "sorted_degrees = sorted(degree_list, key=lambda x: x[1], reverse=True)\n",
    "\n",
    "print(\"Top 10 nodes in the G having the highest degree:\")\n",
    "for i, (node, degree) in enumerate(sorted_degrees[:10]):\n",
    "    city_name = G_largest.nodes[node].get('name', 'Unknown')\n",
    "    print(f\"{i+1}. {city_name} - degree: {degree}\")"
   ],
   "id": "34778fc732fd4ba9",
   "outputs": [
    {
     "name": "stdout",
     "output_type": "stream",
     "text": [
      "Top 10 nodes in the G having the highest degree:\n",
      "1. Paris - degree: 250\n",
      "2. London (GB) - degree: 242\n",
      "3. Frankfurt - degree: 237\n",
      "4. Amsterdam - degree: 192\n",
      "5. Moscow - degree: 186\n",
      "6. Chicago - degree: 184\n",
      "7. New York - degree: 179\n",
      "8. Atlanta - degree: 172\n",
      "9. Dallas/Fort Worth - degree: 147\n",
      "10. Houston - degree: 144\n"
     ]
    }
   ],
   "execution_count": 7
  },
  {
   "metadata": {},
   "cell_type": "markdown",
   "source": "Problem 2.4: Plot the degree distribution of the network G. Each data point is a pair (x,y) where x is a positive integer and y is the fraction of nodes in the network with degree equal to x. Also plot the degree distribution on a log-log scale. Restrict the range of x between the minimum and maximum degrees. You may filter out data points with a 0 entry. For the log-log scale, use base 10 for both x and y axes. Include numeric labels on each axes for the reader to make sense of the plot.",
   "id": "9f90b89d2287f14e"
  },
  {
   "metadata": {
    "ExecuteTime": {
     "end_time": "2025-03-20T06:14:40.485652Z",
     "start_time": "2025-03-20T06:14:40.429014Z"
    }
   },
   "cell_type": "code",
   "source": [
    "# Create the degree sequence and compute the frequency for each unique degree\n",
    "degree_sequence = [d for _, d in G_largest.degree()]\n",
    "degree_values = sorted(set(degree_sequence))\n",
    "frequency = [degree_sequence.count(x) for x in degree_values]\n",
    "total_nodes = G_largest.number_of_nodes()\n",
    "fraction = [f / total_nodes for f in frequency]\n",
    "\n",
    "# Plot the degree distribution on a regular scale\n",
    "plt.figure(figsize=(8, 6))\n",
    "plt.scatter(degree_values, fraction)\n",
    "plt.xlabel(\"Degree\")\n",
    "plt.ylabel(\"Fraction of Nodes\")\n",
    "plt.title(\"Degree Distribution of the Network G\")\n",
    "plt.grid(True)\n",
    "plt.show()"
   ],
   "id": "c75cce0f7c195c70",
   "outputs": [
    {
     "data": {
      "text/plain": [
       "<Figure size 800x600 with 1 Axes>"
      ],
      "image/png": "[encoded data removed]"
     },
     "metadata": {},
     "output_type": "display_data"
    }
   ],
   "execution_count": 31
  },
  {
   "metadata": {},
   "cell_type": "markdown",
   "source": "Plot the degree distribution on a log-log scale:",
   "id": "c14fa52f50b2dc91"
  },
  {
   "metadata": {
    "ExecuteTime": {
     "end_time": "2025-03-20T06:15:36.221117Z",
     "start_time": "2025-03-20T06:15:36.019547Z"
    }
   },
   "cell_type": "code",
   "source": [
    "plt.figure(figsize=(8, 6))\n",
    "plt.scatter(degree_values, fraction)\n",
    "plt.xscale('log', base=10)\n",
    "plt.yscale('log', base=10)\n",
    "plt.xlabel(\"Degree (log10)\")\n",
    "plt.ylabel(\"Fraction of Nodes (log10)\")\n",
    "plt.title(\"Degree Distribution of the Network G (Log-Log)\")\n",
    "plt.grid(True)\n",
    "plt.show()"
   ],
   "id": "e8e7e99a8e817a54",
   "outputs": [
    {
     "data": {
      "text/plain": [
       "<Figure size 800x600 with 1 Axes>"
      ],
      "image/png": "[encoded data removed]"
     },
     "metadata": {},
     "output_type": "display_data"
    }
   ],
   "execution_count": 33
  },
  {
   "metadata": {},
   "cell_type": "markdown",
   "source": "Problem 2.5: What is the (unweighted) diameter of the giant component G in this network? List a longest (unweighted) shortest path between two cities. Please give names of the city/airport, node ids will not be accepted.",
   "id": "b1245ec8b6b54fe7"
  },
  {
   "metadata": {
    "ExecuteTime": {
     "end_time": "2025-03-20T06:16:43.900554Z",
     "start_time": "2025-03-20T06:16:32.751592Z"
    }
   },
   "cell_type": "code",
   "source": [
    "# Unweighted diameter of the giant component\n",
    "try:\n",
    "    diameter = nx.diameter(G_largest)\n",
    "    print(\"Diameter of the giant component G:\", diameter)\n",
    "except Exception as e:\n",
    "    print(\"Error computing diameter:\", e)\n",
    "\n",
    "# Find the diameter path\n",
    "def find_diameter_path(G):\n",
    "    max_length = 0\n",
    "    diameter_path = []\n",
    "    for source in G.nodes():\n",
    "        lengths = nx.single_source_shortest_path_length(G, source)\n",
    "        for target, length in lengths.items():\n",
    "            if length > max_length:\n",
    "                max_length = length\n",
    "                diameter_path = nx.shortest_path(G, source=source, target=target)\n",
    "    return diameter_path\n",
    "\n",
    "diameter_path = find_diameter_path(G_largest)\n",
    "print(\"A longest unweighted shortest path between two cities:\")\n",
    "for node in diameter_path:\n",
    "    print(G_largest.nodes[node].get('name', 'Unknown'))"
   ],
   "id": "b5a8cd406d78ef26",
   "outputs": [
    {
     "name": "stdout",
     "output_type": "stream",
     "text": [
      "Diameter of the giant component G: 17\n",
      "A longest unweighted shortest path between two cities:\n",
      "Brize Norton\n",
      "Georgetown (XV)\n",
      "Mount Pleasant\n",
      "Punta Arenas\n",
      "Concepcion (CL)\n",
      "Santiago (CL)\n",
      "Buenos Aires\n",
      "Auckland\n",
      "Brisbane\n",
      "Port Moresby\n",
      "Lae\n",
      "Indagen\n",
      "Konge\n",
      "Kabwum\n",
      "Satwag\n",
      "Derim\n",
      "Yalumet\n",
      "Wasu\n"
     ]
    }
   ],
   "execution_count": 34
  },
  {
   "metadata": {},
   "cell_type": "markdown",
   "source": [
    "Problem 2.6: What is the smallest number of flights you need to take to get from Canberra (CBR)\n",
    "to Cape Town (CPT)? Which airports does your route take you through? Please give\n",
    "names of the city/airport, node ids will not be accepted."
   ],
   "id": "39e8efb8a7a6fb76"
  },
  {
   "metadata": {
    "ExecuteTime": {
     "end_time": "2025-03-19T10:02:47.473869Z",
     "start_time": "2025-03-19T10:02:47.464713Z"
    }
   },
   "cell_type": "code",
   "source": [
    "# Get node by city name\n",
    "def get_node_by_city(G, city_name):\n",
    "    for node, data in G.nodes(data=True):\n",
    "        if data.get('name', '').lower() == city_name.lower():\n",
    "            return node\n",
    "    return None\n",
    "\n",
    "# Retrieve node ids for Canberra and Cape Town\n",
    "node_canberra = get_node_by_city(G_largest, \"Canberra\")\n",
    "node_capetown = get_node_by_city(G_largest, \"Cape Town\")\n",
    "\n",
    "if node_canberra is None or node_capetown is None:\n",
    "    print(\"Cannot find 'Canberra' or 'Cape Town'.\")\n",
    "else:\n",
    "    shortest_path = nx.shortest_path(G_largest, source=node_canberra, target=node_capetown)\n",
    "    print(\"Shortest path from Canberra to Cape Town:\")\n",
    "    for node in shortest_path:\n",
    "        print(G_largest.nodes[node].get('name', 'Unknown'))\n",
    "    print(\"Smallest number of flights:\", len(shortest_path) - 1)\n"
   ],
   "id": "4443f3bb9f76147d",
   "outputs": [
    {
     "name": "stdout",
     "output_type": "stream",
     "text": [
      "Shortest path from Canberra to Cape Town:\n",
      "Canberra\n",
      "Melbourne (AU)\n",
      "Mauritius\n",
      "Cape Town\n",
      "Smallest number of flights: 3\n"
     ]
    }
   ],
   "execution_count": 12
  },
  {
   "metadata": {},
   "cell_type": "markdown",
   "source": [
    "Problem 2.7: Which airport/city in G is most “central” by having the largest betweenness, list the\n",
    "top 10 cities with their betweenness value?"
   ],
   "id": "4707a2a3ccf612a5"
  },
  {
   "metadata": {
    "ExecuteTime": {
     "end_time": "2025-03-20T06:21:24.134466Z",
     "start_time": "2025-03-20T06:20:28.492735Z"
    }
   },
   "cell_type": "code",
   "source": [
    "# Compute betweenness centrality for all nodes in the giant component\n",
    "betweenness = nx.betweenness_centrality(G_largest)\n",
    "\n",
    "# Sort nodes by betweenness centrality in descending order and list the top 10\n",
    "top10 = sorted(betweenness.items(), key=lambda x: x[1], reverse=True)[:10]\n",
    "\n",
    "print(\"Top 10 cities by betweenness centrality:\")\n",
    "for node, bc in top10:\n",
    "    print(f\"{G_largest.nodes[node].get('name', 'Unknown')} - betweenness value: {bc:.6f}\")\n"
   ],
   "id": "7bca62030eac931",
   "outputs": [
    {
     "name": "stdout",
     "output_type": "stream",
     "text": [
      "Top 10 cities by betweenness centrality:\n",
      "Paris - betweenness value: 0.093420\n",
      "London (GB) - betweenness value: 0.084989\n",
      "Anchorage - betweenness value: 0.081523\n",
      "Singapore - betweenness value: 0.075362\n",
      "New York - betweenness value: 0.069283\n",
      "Los Angeles (US) - betweenness value: 0.066250\n",
      "Frankfurt - betweenness value: 0.065578\n",
      "Port Moresby - betweenness value: 0.064323\n",
      "Tokyo - betweenness value: 0.060243\n",
      "Seattle - betweenness value: 0.052379\n"
     ]
    }
   ],
   "execution_count": 35
  }
 ],
 "metadata": {
  "kernelspec": {
   "display_name": "Python 3",
   "language": "python",
   "name": "python3"
  },
  "language_info": {
   "codemirror_mode": {
    "name": "ipython",
    "version": 2
   },
   "file_extension": ".py",
   "mimetype": "text/x-python",
   "name": "python",
   "nbconvert_exporter": "python",
   "pygments_lexer": "ipython2",
   "version": "2.7.6"
  }
 },
 "nbformat": 4,
 "nbformat_minor": 5
}
